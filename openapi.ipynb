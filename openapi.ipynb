{
 "cells": [
  {
   "cell_type": "code",
   "execution_count": 1,
   "id": "2fc0055b-309d-41e8-ad7d-cfe2f99fabf4",
   "metadata": {},
   "outputs": [],
   "source": [
    "from urllib.parse import urlencode, unquote\n",
    "import requests\n",
    "import json\n",
    "import pandas as pd\n",
    "import math\n",
    "import numpy as np"
   ]
  },
  {
   "cell_type": "code",
   "execution_count": 14,
   "id": "879e97b9-bc93-4f25-849c-b9b43421bcaf",
   "metadata": {},
   "outputs": [
    {
     "name": "stdout",
     "output_type": "stream",
     "text": [
      "Retrieved 12430 rows of data.\n"
     ]
    }
   ],
   "source": [
    "\n",
    "url = 'http://api.odcloud.kr/api/15049722/v1/uddi:1914a5f2-6db7-4b78-9495-cd092b6e4029'\n",
    "key = '88NKyBxsvclKv****************************************************************'\n",
    "\n",
    "# Set the initial query parameters\n",
    "query_params = {\n",
    "    \"serviceKey\": unquote(key),\n",
    "    \"pageNo\": 1,\n",
    "    \"numOfRows\": 10,  # Set the number of rows per page\n",
    "    \"resultType\": \"json\"\n",
    "}\n",
    "\n",
    "all_data = []  # List to store all the retrieved data\n",
    "\n",
    "while True:\n",
    "    # Make the request and retrieve the data\n",
    "    response = requests.get(url, params=query_params)\n",
    "    data = response.json()\n",
    "\n",
    "    # Append the retrieved data to the list of all data\n",
    "    all_data.extend(data['data'])\n",
    "\n",
    "    # Check if there is more data available\n",
    "    if data['totalCount'] <= query_params['numOfRows'] * query_params['pageNo']:\n",
    "        break\n",
    "\n",
    "    # Increment the page number for the next request\n",
    "    query_params['pageNo'] += 1\n",
    "\n",
    "# Process the retrieved data as needed\n",
    "print(f\"Retrieved {len(all_data)} rows of data.\")\n"
   ]
  },
  {
   "cell_type": "code",
   "execution_count": 18,
   "id": "86794251-db67-4f72-960b-fc5a0008ccf7",
   "metadata": {},
   "outputs": [],
   "source": [
    "df = pd.DataFrame(all_data)"
   ]
  },
  {
   "cell_type": "code",
   "execution_count": 20,
   "id": "6399f761-5c1c-4bf2-b013-ac4e61024235",
   "metadata": {},
   "outputs": [
    {
     "name": "stdout",
     "output_type": "stream",
     "text": [
      "<class 'pandas.core.frame.DataFrame'>\n",
      "RangeIndex: 12430 entries, 0 to 12429\n",
      "Data columns (total 19 columns):\n",
      " #   Column     Non-Null Count  Dtype  \n",
      "---  ------     --------------  -----  \n",
      " 0   HS부호       12430 non-null  int64  \n",
      " 1   규격사항내용     0 non-null      object \n",
      " 2   규격설명       0 non-null      object \n",
      " 3   성질통합분류코드   12430 non-null  int64  \n",
      " 4   성질통합분류코드명  12430 non-null  object \n",
      " 5   수량단위최대단가   2486 non-null   float64\n",
      " 6   수량단위코드     12430 non-null  object \n",
      " 7   수입성질코드     12430 non-null  object \n",
      " 8   수출성질코드     12430 non-null  object \n",
      " 9   영문품목명      12430 non-null  object \n",
      " 10  적용시작일자     12430 non-null  object \n",
      " 11  적용종료일자     12430 non-null  object \n",
      " 12  중량단위최대단가   2486 non-null   float64\n",
      " 13  중량단위코드     12430 non-null  object \n",
      " 14  참고규격명      0 non-null      object \n",
      " 15  품목규격명      0 non-null      object \n",
      " 16  필수규격명      0 non-null      object \n",
      " 17  한국표준무역분류명  0 non-null      object \n",
      " 18  한글품목명      12430 non-null  object \n",
      "dtypes: float64(2), int64(2), object(15)\n",
      "memory usage: 1.8+ MB\n"
     ]
    }
   ],
   "source": [
    "df.info()"
   ]
  },
  {
   "cell_type": "code",
   "execution_count": 22,
   "id": "a0839895-2b58-4893-ba60-6c1109c3af2e",
   "metadata": {},
   "outputs": [],
   "source": [
    "df.to_excel(\"HS_CODE.xlsx\", index = False)"
   ]
  },
  {
   "cell_type": "code",
   "execution_count": null,
   "id": "1f2f8d5e-0382-4a62-b666-74c57f4867f5",
   "metadata": {},
   "outputs": [],
   "source": []
  }
 ],
 "metadata": {
  "kernelspec": {
   "display_name": "Python 3 (ipykernel)",
   "language": "python",
   "name": "python3"
  },
  "language_info": {
   "codemirror_mode": {
    "name": "ipython",
    "version": 3
   },
   "file_extension": ".py",
   "mimetype": "text/x-python",
   "name": "python",
   "nbconvert_exporter": "python",
   "pygments_lexer": "ipython3",
   "version": "3.9.13"
  }
 },
 "nbformat": 4,
 "nbformat_minor": 5
}
